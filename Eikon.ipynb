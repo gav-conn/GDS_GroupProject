{
 "cells": [
  {
   "cell_type": "code",
   "execution_count": 27,
   "metadata": {},
   "outputs": [],
   "source": [
    "import eikon as ek\n",
    "import pandas as pd\n",
    "from sqlalchemy import create_engine\n",
    "ek.set_app_key('150b92bce26746bbbee1258f4ac8453b6cb6a1ae')"
   ]
  },
  {
   "cell_type": "code",
   "execution_count": 93,
   "metadata": {},
   "outputs": [],
   "source": [
    "df_tickers = pd.read_csv(\"CompaniesSample.csv\")"
   ]
  },
  {
   "cell_type": "code",
   "execution_count": 48,
   "metadata": {},
   "outputs": [],
   "source": [
    "tickers_lst = df_tickers['Ticker'].to_list()\n",
    "\n",
    "fin_vars_lst = [\n",
    "    'TR.TotalReturn.date',\n",
    "    'TR.TtlCmnSharesOut', \n",
    "    'TR.TotalEquity', \n",
    "    'TR.TotalReturn',\n",
    "    'TR.TotalDebtOutstanding',\n",
    "    'TR.CapitalExpenditures',\n",
    "    'TR.CurrentRatio'\n",
    "    ]"
   ]
  },
  {
   "cell_type": "code",
   "execution_count": 69,
   "metadata": {},
   "outputs": [
    {
     "data": {
      "text/html": [
       "<div>\n",
       "<style scoped>\n",
       "    .dataframe tbody tr th:only-of-type {\n",
       "        vertical-align: middle;\n",
       "    }\n",
       "\n",
       "    .dataframe tbody tr th {\n",
       "        vertical-align: top;\n",
       "    }\n",
       "\n",
       "    .dataframe thead th {\n",
       "        text-align: right;\n",
       "    }\n",
       "</style>\n",
       "<table border=\"1\" class=\"dataframe\">\n",
       "  <thead>\n",
       "    <tr style=\"text-align: right;\">\n",
       "      <th></th>\n",
       "      <th>Instrument</th>\n",
       "      <th>Date</th>\n",
       "      <th>Total Common Shares Outstanding</th>\n",
       "      <th>Total Equity</th>\n",
       "      <th>Total Return</th>\n",
       "      <th>Total Debt</th>\n",
       "      <th>Capital Expenditures, Cumulative</th>\n",
       "      <th>Current Ratio</th>\n",
       "    </tr>\n",
       "  </thead>\n",
       "  <tbody>\n",
       "    <tr>\n",
       "      <th>0</th>\n",
       "      <td>CMPC.SN</td>\n",
       "      <td>2017-12-29T00:00:00Z</td>\n",
       "      <td>2500000000.0</td>\n",
       "      <td>8082116000.0</td>\n",
       "      <td>52.951184</td>\n",
       "      <td>4082462000.0</td>\n",
       "      <td>-405076000.0</td>\n",
       "      <td>2.32273</td>\n",
       "    </tr>\n",
       "    <tr>\n",
       "      <th>1</th>\n",
       "      <td>CMPC.SN</td>\n",
       "      <td>2018-12-28T00:00:00Z</td>\n",
       "      <td>2500000000.0</td>\n",
       "      <td>8241835000.0</td>\n",
       "      <td>8.073222</td>\n",
       "      <td>3808951000.0</td>\n",
       "      <td>-298923000.0</td>\n",
       "      <td>2.27579</td>\n",
       "    </tr>\n",
       "    <tr>\n",
       "      <th>2</th>\n",
       "      <td>CMPC.SN</td>\n",
       "      <td>2019-12-30T00:00:00Z</td>\n",
       "      <td>2500000000.0</td>\n",
       "      <td>8133310000.0</td>\n",
       "      <td>-13.143652</td>\n",
       "      <td>4065974000.0</td>\n",
       "      <td>-252058000.0</td>\n",
       "      <td>2.26496</td>\n",
       "    </tr>\n",
       "    <tr>\n",
       "      <th>3</th>\n",
       "      <td>CMPC.SN</td>\n",
       "      <td>2020-12-30T00:00:00Z</td>\n",
       "      <td>2500000000.0</td>\n",
       "      <td>7863289000.0</td>\n",
       "      <td>1.932665</td>\n",
       "      <td>4163993000.0</td>\n",
       "      <td>-167338000.0</td>\n",
       "      <td>2.99374</td>\n",
       "    </tr>\n",
       "    <tr>\n",
       "      <th>4</th>\n",
       "      <td>CMPC.SN</td>\n",
       "      <td>2021-12-30T00:00:00Z</td>\n",
       "      <td>2500000000.0</td>\n",
       "      <td>7546078000.0</td>\n",
       "      <td>-15.183907</td>\n",
       "      <td>4499243000.0</td>\n",
       "      <td>-224914000.0</td>\n",
       "      <td>2.06255</td>\n",
       "    </tr>\n",
       "    <tr>\n",
       "      <th>...</th>\n",
       "      <td>...</td>\n",
       "      <td>...</td>\n",
       "      <td>...</td>\n",
       "      <td>...</td>\n",
       "      <td>...</td>\n",
       "      <td>...</td>\n",
       "      <td>...</td>\n",
       "      <td>...</td>\n",
       "    </tr>\n",
       "    <tr>\n",
       "      <th>565</th>\n",
       "      <td>EPIRa.ST</td>\n",
       "      <td>2018-12-28T00:00:00Z</td>\n",
       "      <td>1213738700.0</td>\n",
       "      <td>2123378970.67462</td>\n",
       "      <td>-7.716015</td>\n",
       "      <td>653382133.658669</td>\n",
       "      <td>-117030409.832362</td>\n",
       "      <td>2.3406</td>\n",
       "    </tr>\n",
       "    <tr>\n",
       "      <th>566</th>\n",
       "      <td>EPIRa.ST</td>\n",
       "      <td>2019-12-30T00:00:00Z</td>\n",
       "      <td>1202952020.0</td>\n",
       "      <td>2431211279.6411</td>\n",
       "      <td>39.270775</td>\n",
       "      <td>899807733.390301</td>\n",
       "      <td>-109271523.178808</td>\n",
       "      <td>3.07425</td>\n",
       "    </tr>\n",
       "    <tr>\n",
       "      <th>567</th>\n",
       "      <td>EPIRa.ST</td>\n",
       "      <td>2020-12-30T00:00:00Z</td>\n",
       "      <td>1205924490.0</td>\n",
       "      <td>2884184642.35283</td>\n",
       "      <td>33.567351</td>\n",
       "      <td>1224132054.34095</td>\n",
       "      <td>-122340166.528704</td>\n",
       "      <td>3.64419</td>\n",
       "    </tr>\n",
       "    <tr>\n",
       "      <th>568</th>\n",
       "      <td>EPIRa.ST</td>\n",
       "      <td>2021-12-30T00:00:00Z</td>\n",
       "      <td>1206262770.0</td>\n",
       "      <td>2846380210.63811</td>\n",
       "      <td>57.39359</td>\n",
       "      <td>1016019116.73599</td>\n",
       "      <td>-102442694.043721</td>\n",
       "      <td>2.64528</td>\n",
       "    </tr>\n",
       "    <tr>\n",
       "      <th>569</th>\n",
       "      <td>EPIRa.ST</td>\n",
       "      <td>2022-12-30T00:00:00Z</td>\n",
       "      <td>&lt;NA&gt;</td>\n",
       "      <td>&lt;NA&gt;</td>\n",
       "      <td>-15.78477</td>\n",
       "      <td>&lt;NA&gt;</td>\n",
       "      <td>&lt;NA&gt;</td>\n",
       "      <td>&lt;NA&gt;</td>\n",
       "    </tr>\n",
       "  </tbody>\n",
       "</table>\n",
       "<p>570 rows × 8 columns</p>\n",
       "</div>"
      ],
      "text/plain": [
       "    Instrument                  Date  Total Common Shares Outstanding  \\\n",
       "0      CMPC.SN  2017-12-29T00:00:00Z                     2500000000.0   \n",
       "1      CMPC.SN  2018-12-28T00:00:00Z                     2500000000.0   \n",
       "2      CMPC.SN  2019-12-30T00:00:00Z                     2500000000.0   \n",
       "3      CMPC.SN  2020-12-30T00:00:00Z                     2500000000.0   \n",
       "4      CMPC.SN  2021-12-30T00:00:00Z                     2500000000.0   \n",
       "..         ...                   ...                              ...   \n",
       "565   EPIRa.ST  2018-12-28T00:00:00Z                     1213738700.0   \n",
       "566   EPIRa.ST  2019-12-30T00:00:00Z                     1202952020.0   \n",
       "567   EPIRa.ST  2020-12-30T00:00:00Z                     1205924490.0   \n",
       "568   EPIRa.ST  2021-12-30T00:00:00Z                     1206262770.0   \n",
       "569   EPIRa.ST  2022-12-30T00:00:00Z                             <NA>   \n",
       "\n",
       "         Total Equity Total Return        Total Debt  \\\n",
       "0        8082116000.0    52.951184      4082462000.0   \n",
       "1        8241835000.0     8.073222      3808951000.0   \n",
       "2        8133310000.0   -13.143652      4065974000.0   \n",
       "3        7863289000.0     1.932665      4163993000.0   \n",
       "4        7546078000.0   -15.183907      4499243000.0   \n",
       "..                ...          ...               ...   \n",
       "565  2123378970.67462    -7.716015  653382133.658669   \n",
       "566   2431211279.6411    39.270775  899807733.390301   \n",
       "567  2884184642.35283    33.567351  1224132054.34095   \n",
       "568  2846380210.63811     57.39359  1016019116.73599   \n",
       "569              <NA>    -15.78477              <NA>   \n",
       "\n",
       "     Capital Expenditures, Cumulative  Current Ratio  \n",
       "0                        -405076000.0        2.32273  \n",
       "1                        -298923000.0        2.27579  \n",
       "2                        -252058000.0        2.26496  \n",
       "3                        -167338000.0        2.99374  \n",
       "4                        -224914000.0        2.06255  \n",
       "..                                ...            ...  \n",
       "565                 -117030409.832362         2.3406  \n",
       "566                 -109271523.178808        3.07425  \n",
       "567                 -122340166.528704        3.64419  \n",
       "568                 -102442694.043721        2.64528  \n",
       "569                              <NA>           <NA>  \n",
       "\n",
       "[570 rows x 8 columns]"
      ]
     },
     "execution_count": 69,
     "metadata": {},
     "output_type": "execute_result"
    }
   ],
   "source": [
    "df, err = ek.get_data(tickers_lst, fin_vars_lst, {'SDate': '2017-12-31', 'EDate': '2022-12-31', 'FRQ': 'FY', 'Curn': 'USD'})\n",
    "df"
   ]
  },
  {
   "cell_type": "code",
   "execution_count": 70,
   "metadata": {},
   "outputs": [],
   "source": [
    "df_fin = df_tickers[['Company Name', 'Ticker']].merge(df, right_on='Instrument', left_on='Ticker').drop(columns='Instrument')\n",
    "df_fin['Date'] = df_fin['Date'].str[:-10] # Get rid of TZ info\n",
    "df_fin = df_fin.loc[df_fin['Date'].isin(['2017-12-31','2018-12-31','2019-12-31','2020-12-31','2021-12-31'])].reset_index(drop=True)"
   ]
  },
  {
   "cell_type": "code",
   "execution_count": 84,
   "metadata": {},
   "outputs": [],
   "source": [
    "engine = create_engine(\"sqlite:///GDS.db\")\n",
    "df_fin.to_sql('FinancialsTable', engine, index=False, if_exists=\"replace\")"
   ]
  },
  {
   "attachments": {},
   "cell_type": "markdown",
   "metadata": {},
   "source": [
    "Calculations"
   ]
  },
  {
   "attachments": {},
   "cell_type": "markdown",
   "metadata": {},
   "source": [
    "Market Cap: Total shares * Value-Per-Share"
   ]
  },
  {
   "cell_type": "code",
   "execution_count": null,
   "metadata": {},
   "outputs": [],
   "source": [
    "import yfinance as yf\n",
    "import numpy as np\n",
    "\n",
    "ticks = pd.read_csv(\"CompaniesYFinance.csv\")\n",
    "ticker = ticks.iloc[:, 1]\n",
    "data = yf.download(ticker, start = , end = , interval = '1y')\n",
    "\n",
    "closing_price = data['Close'].iloc[-1]\n",
    "\n",
    "tot_shares = df_fin.iloc[:, 2]\n",
    "vps = closing_price / tot_shares\n",
    "\n",
    "mark_cap = np.multiply(tot_shares, vps)"
   ]
  },
  {
   "attachments": {},
   "cell_type": "markdown",
   "metadata": {},
   "source": [
    "ROE: (Total Return/Total Equity)*100"
   ]
  },
  {
   "cell_type": "code",
   "execution_count": null,
   "metadata": {},
   "outputs": [],
   "source": [
    "tot_ret = df_fin.iloc[:, 4] \n",
    "tot_eq = df_fin.iloc[:, 3]\n",
    "\n",
    "roe = np.dot(np.divide(tot_ret, tot_eq), 100)"
   ]
  },
  {
   "attachments": {},
   "cell_type": "markdown",
   "metadata": {},
   "source": [
    "Debt-to-Equity: Total Debt/Total Equity "
   ]
  },
  {
   "cell_type": "code",
   "execution_count": null,
   "metadata": {},
   "outputs": [],
   "source": [
    "tot_deb = df.fin.iloc[:, 5]\n",
    "\n",
    "debt_eq = np.divide(tot_deb, tot_eq)"
   ]
  }
 ],
 "metadata": {
  "kernelspec": {
   "display_name": "base",
   "language": "python",
   "name": "python3"
  },
  "language_info": {
   "codemirror_mode": {
    "name": "ipython",
    "version": 3
   },
   "file_extension": ".py",
   "mimetype": "text/x-python",
   "name": "python",
   "nbconvert_exporter": "python",
   "pygments_lexer": "ipython3",
   "version": "3.9.13"
  },
  "orig_nbformat": 4
 },
 "nbformat": 4,
 "nbformat_minor": 2
}
